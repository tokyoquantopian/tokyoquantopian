{
 "cells": [
  {
   "cell_type": "markdown",
   "metadata": {},
   "source": [
    "# 先物用のクラス"
   ]
  },
  {
   "cell_type": "code",
   "execution_count": 1,
   "metadata": {},
   "outputs": [],
   "source": [
    "from quantopian.research.experimental import history"
   ]
  },
  {
   "cell_type": "code",
   "execution_count": 2,
   "metadata": {},
   "outputs": [],
   "source": [
    "class Futures:\n",
    "    \"\"\"先物クラス\n",
    "\n",
    "    symbolsのインスタンスとhistoryメソッドを実装\n",
    "\n",
    "    Parameters\n",
    "    ----------\n",
    "    symbol_name : str\n",
    "        銘柄のシンボル\n",
    "    year : int\n",
    "        満期日の年(2桁:00-99)\n",
    "    month : int\n",
    "        満期日の月(1-12)\n",
    "\n",
    "    \"\"\"\n",
    "    \n",
    "    def __init__(self, symbol_name, year, month):\n",
    "        self.symbol_name = symbol_name\n",
    "        self.year = year\n",
    "        self.month = month\n",
    "        self.symbol = self.symbols()\n",
    "\n",
    "    def symbols(self):\n",
    "        month = \"FGHJKMNQUVXZ\"[self.month - 1]\n",
    "        return symbols(\"{}{}{}\".format(self.symbol_name, month, self.year))\n",
    "    \n",
    "    def history(self, **kwargs):\n",
    "        if \"frequency\" not in kwargs:\n",
    "            kwargs[\"frequency\"] = \"daily\"\n",
    "        if \"fields\" not in kwargs:\n",
    "            kwargs[\"fields\"] = [\n",
    "                'price', 'open_price','high', 'low', 'close_price',\n",
    "                'volume', 'contract'\n",
    "            ]\n",
    "        if \"start\" not in kwargs:\n",
    "            kwargs[\"start\"] = self.symbol.start_date\n",
    "        if \"end\" not in kwargs:\n",
    "            kwargs[\"end\"] = self.symbol.end_date\n",
    "        return history(self.symbol, **kwargs)"
   ]
  },
  {
   "cell_type": "markdown",
   "metadata": {},
   "source": [
    "### つかいかた"
   ]
  },
  {
   "cell_type": "markdown",
   "metadata": {},
   "source": [
    "#### インスタンスを作成"
   ]
  },
  {
   "cell_type": "markdown",
   "metadata": {},
   "source": [
    "天然ガス2017年1月"
   ]
  },
  {
   "cell_type": "code",
   "execution_count": 3,
   "metadata": {},
   "outputs": [],
   "source": [
    "ng1701 = Futures(\"NG\", 17, 1)"
   ]
  },
  {
   "cell_type": "markdown",
   "metadata": {},
   "source": [
    "各属性には`symbol`にアクセス"
   ]
  },
  {
   "cell_type": "code",
   "execution_count": 4,
   "metadata": {},
   "outputs": [
    {
     "data": {
      "text/plain": [
       "Timestamp('2016-12-28 00:00:00+0000', tz='UTC')"
      ]
     },
     "execution_count": 4,
     "metadata": {},
     "output_type": "execute_result"
    }
   ],
   "source": [
    "ng1701.symbol.expiration_date"
   ]
  },
  {
   "cell_type": "code",
   "execution_count": 5,
   "metadata": {},
   "outputs": [
    {
     "data": {
      "text/plain": [
       "['asset_name',\n",
       " 'auto_close_date',\n",
       " 'country_code',\n",
       " 'end_date',\n",
       " 'exchange',\n",
       " 'exchange_full',\n",
       " 'exchange_info',\n",
       " 'expiration_date',\n",
       " 'first_traded',\n",
       " 'from_dict',\n",
       " 'is_alive_for_session',\n",
       " 'is_exchange_open',\n",
       " 'multiplier',\n",
       " 'notice_date',\n",
       " 'price_multiplier',\n",
       " 'root_symbol',\n",
       " 'sid',\n",
       " 'start_date',\n",
       " 'symbol',\n",
       " 'tick_size',\n",
       " 'to_dict']"
      ]
     },
     "execution_count": 5,
     "metadata": {},
     "output_type": "execute_result"
    }
   ],
   "source": [
    "dir(ng1701.symbol)"
   ]
  },
  {
   "cell_type": "markdown",
   "metadata": {},
   "source": [
    "#### historyメソッド\n",
    "デフォルトでは下記の情報を取得\n",
    "\n",
    "引数|パラメータ\n",
    "---|---\n",
    "fields|price, open_price, high, low, close_price, volume, contract\n",
    "frequency|daily\n",
    "start|start_date(銘柄の開始日)\n",
    "end|end_date(銘柄の終了日)"
   ]
  },
  {
   "cell_type": "code",
   "execution_count": 6,
   "metadata": {},
   "outputs": [
    {
     "data": {
      "text/html": [
       "<div>\n",
       "<table border=\"1\" class=\"dataframe\">\n",
       "  <thead>\n",
       "    <tr style=\"text-align: right;\">\n",
       "      <th></th>\n",
       "      <th>price</th>\n",
       "      <th>open_price</th>\n",
       "      <th>high</th>\n",
       "      <th>low</th>\n",
       "      <th>close_price</th>\n",
       "      <th>volume</th>\n",
       "      <th>contract</th>\n",
       "    </tr>\n",
       "  </thead>\n",
       "  <tbody>\n",
       "    <tr>\n",
       "      <th>2016-12-21 00:00:00+00:00</th>\n",
       "      <td>3.572</td>\n",
       "      <td>3.313</td>\n",
       "      <td>3.593</td>\n",
       "      <td>3.308</td>\n",
       "      <td>3.572</td>\n",
       "      <td>106491.0</td>\n",
       "      <td>Future(1061201701 [NGF17])</td>\n",
       "    </tr>\n",
       "    <tr>\n",
       "      <th>2016-12-22 00:00:00+00:00</th>\n",
       "      <td>3.536</td>\n",
       "      <td>3.565</td>\n",
       "      <td>3.626</td>\n",
       "      <td>3.497</td>\n",
       "      <td>3.536</td>\n",
       "      <td>79995.0</td>\n",
       "      <td>Future(1061201701 [NGF17])</td>\n",
       "    </tr>\n",
       "    <tr>\n",
       "      <th>2016-12-23 00:00:00+00:00</th>\n",
       "      <td>3.677</td>\n",
       "      <td>3.538</td>\n",
       "      <td>3.715</td>\n",
       "      <td>3.535</td>\n",
       "      <td>3.677</td>\n",
       "      <td>38346.0</td>\n",
       "      <td>Future(1061201701 [NGF17])</td>\n",
       "    </tr>\n",
       "    <tr>\n",
       "      <th>2016-12-27 00:00:00+00:00</th>\n",
       "      <td>3.726</td>\n",
       "      <td>3.756</td>\n",
       "      <td>3.778</td>\n",
       "      <td>3.686</td>\n",
       "      <td>3.726</td>\n",
       "      <td>25305.0</td>\n",
       "      <td>Future(1061201701 [NGF17])</td>\n",
       "    </tr>\n",
       "    <tr>\n",
       "      <th>2016-12-28 00:00:00+00:00</th>\n",
       "      <td>3.965</td>\n",
       "      <td>3.735</td>\n",
       "      <td>3.994</td>\n",
       "      <td>3.663</td>\n",
       "      <td>3.965</td>\n",
       "      <td>11123.0</td>\n",
       "      <td>Future(1061201701 [NGF17])</td>\n",
       "    </tr>\n",
       "  </tbody>\n",
       "</table>\n",
       "</div>"
      ],
      "text/plain": [
       "                           price  open_price   high    low  close_price  \\\n",
       "2016-12-21 00:00:00+00:00  3.572       3.313  3.593  3.308        3.572   \n",
       "2016-12-22 00:00:00+00:00  3.536       3.565  3.626  3.497        3.536   \n",
       "2016-12-23 00:00:00+00:00  3.677       3.538  3.715  3.535        3.677   \n",
       "2016-12-27 00:00:00+00:00  3.726       3.756  3.778  3.686        3.726   \n",
       "2016-12-28 00:00:00+00:00  3.965       3.735  3.994  3.663        3.965   \n",
       "\n",
       "                             volume                    contract  \n",
       "2016-12-21 00:00:00+00:00  106491.0  Future(1061201701 [NGF17])  \n",
       "2016-12-22 00:00:00+00:00   79995.0  Future(1061201701 [NGF17])  \n",
       "2016-12-23 00:00:00+00:00   38346.0  Future(1061201701 [NGF17])  \n",
       "2016-12-27 00:00:00+00:00   25305.0  Future(1061201701 [NGF17])  \n",
       "2016-12-28 00:00:00+00:00   11123.0  Future(1061201701 [NGF17])  "
      ]
     },
     "execution_count": 6,
     "metadata": {},
     "output_type": "execute_result"
    }
   ],
   "source": [
    "ng1701.history().tail()"
   ]
  },
  {
   "cell_type": "markdown",
   "metadata": {},
   "source": [
    "パラメータは[history](https://www.quantopian.com/help#ide-history)のものを渡せる"
   ]
  },
  {
   "cell_type": "code",
   "execution_count": 8,
   "metadata": {},
   "outputs": [
    {
     "data": {
      "text/plain": [
       "2016-10-31 00:00:00+00:00    3.150\n",
       "2016-11-01 00:00:00+00:00    3.034\n",
       "2016-11-02 00:00:00+00:00    2.958\n",
       "2016-11-03 00:00:00+00:00    2.984\n",
       "2016-11-04 00:00:00+00:00    2.949\n",
       "2016-11-07 00:00:00+00:00    2.993\n",
       "2016-11-08 00:00:00+00:00    2.793\n",
       "2016-11-09 00:00:00+00:00    2.872\n",
       "2016-11-10 00:00:00+00:00    2.843\n",
       "2016-11-11 00:00:00+00:00    2.850\n",
       "2016-11-14 00:00:00+00:00    2.928\n",
       "2016-11-15 00:00:00+00:00    2.875\n",
       "2016-11-16 00:00:00+00:00    2.926\n",
       "2016-11-17 00:00:00+00:00    2.872\n",
       "2016-11-18 00:00:00+00:00    2.983\n",
       "2016-11-21 00:00:00+00:00    3.098\n",
       "2016-11-22 00:00:00+00:00    3.058\n",
       "2016-11-23 00:00:00+00:00    3.143\n",
       "2016-11-24 00:00:00+00:00    3.159\n",
       "2016-11-25 00:00:00+00:00    3.187\n",
       "2016-11-28 00:00:00+00:00    3.345\n",
       "2016-11-29 00:00:00+00:00    3.328\n",
       "2016-11-30 00:00:00+00:00    3.346\n",
       "2016-12-01 00:00:00+00:00    3.542\n",
       "2016-12-02 00:00:00+00:00    3.455\n",
       "2016-12-05 00:00:00+00:00    3.589\n",
       "2016-12-06 00:00:00+00:00    3.634\n",
       "2016-12-07 00:00:00+00:00    3.565\n",
       "2016-12-08 00:00:00+00:00    3.716\n",
       "Freq: C, Name: Future(1061201701 [NGF17]), dtype: float64"
      ]
     },
     "execution_count": 8,
     "metadata": {},
     "output_type": "execute_result"
    }
   ],
   "source": [
    "from datetime import timedelta\n",
    "\n",
    "ng1701.history(\n",
    "    fields=\"price\",\n",
    "    start=ng1701.symbol.end_date - timedelta(days=60),\n",
    "    end=ng1701.symbol.end_date - timedelta(days=20)\n",
    ")"
   ]
  },
  {
   "cell_type": "code",
   "execution_count": null,
   "metadata": {},
   "outputs": [],
   "source": []
  }
 ],
 "metadata": {
  "kernelspec": {
   "display_name": "Python 2",
   "language": "python",
   "name": "python2"
  },
  "language_info": {
   "codemirror_mode": {
    "name": "ipython",
    "version": 2
   },
   "file_extension": ".py",
   "mimetype": "text/x-python",
   "name": "python",
   "nbconvert_exporter": "python",
   "pygments_lexer": "ipython2",
   "version": "2.7.12"
  }
 },
 "nbformat": 4,
 "nbformat_minor": 2
}
