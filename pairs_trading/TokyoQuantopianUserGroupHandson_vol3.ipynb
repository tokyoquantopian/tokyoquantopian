{
 "cells": [
  {
   "cell_type": "markdown",
   "metadata": {
    "run_control": {
     "frozen": false,
     "read_only": false
    }
   },
   "source": [
    "# Tokyo Quantopian User Group Handson vol3\n",
    "\n",
    "\n",
    "### Objectives\n",
    "\n",
    "このノートでは、Quantopian Research を使ってどのようにペアトレーディングを構築していくかを学んで行きます。ノート修了時には、\n",
    "\n",
    "+ ペアトレ構築方法\n",
    "+ 銘柄ペアの探し方\n",
    "+ 銘柄ペアの評価方法\n",
    "+ 共和分とは何か\n",
    "+ どのように共和分をテストするか\n",
    "+ どのように取引シグナルを作るか\n",
    "+ python library pandas の機能の一部\n",
    "+ matplotlib の機能の一部\n",
    "\n",
    "を理解していることを目標にします。\n",
    "\n",
    "# ペアトレーディング\n",
    "\n",
    "ペアトレーディング（以下ペアトレ）は、マーケットの暴騰や急落といった、急な変化に巻き込まれずに収益を上げていく方法として昔から使われてるストラテジーです。\n",
    "\n",
    "ここに、似通った性格を持つ銘柄Xと銘柄Yの２つの銘柄があります。長い期間で見ると、どららの銘柄の価格もいつも大体同じような動きをしているものとしましょう。しかし短い期間で見てみると、時々違う動きをすることもあるとします。その場合、いずれ同じような動きに戻ってくると期待できるのであれば、差が開いた時に戻る方向へ取引すると儲かるのではないか、というのがペアトレの基本的な考え方です。\n",
    "\n",
    "もう少し詳しく説明します。\n",
    "\n",
    "銘柄XとYの価格がほぼ同じくらいであるとします。そうすると、長期的に見て**Xの価格とYの価格の差**はゼロあたりになるはずですが、ときには、この差が大きくなることがあります。つまり、これは何らかの理由で**Xが大きく値上りしているか、Yが大きく値下がりしている**ということです。\n",
    "\n",
    "どちらかの銘柄の株価だけ先に動いたのであって、もう片方もいずれ追随してこの差がなくなると考えられるなら、まず**Xを売りYを買う**というポジションを取り、そして、価格差がなくなったときに反対売買（Xを買い戻しYを売る）を行えば利益を確定できます。\n",
    "\n",
    "この仕組みは、XとYの関係だけに基づいていますから、株式市場全体が勢い良く上昇したり下降したりしても、原理的には関係ありません。株式市場が勢い良く下げて、Xの価格が下がるときにはYの価格も下がるでしょうから、これらの２つの動きは相殺されることになります。\n",
    "\n",
    "もちろん２つの銘柄が未来永劫ずっと同じように動くという保証はどこにもありません。銘柄の関係性が薄れて全く異なる値動きをし始めることもあり得ます。そうなるとこのストラテジーは一切機能しません。\n",
    "\n",
    "\n",
    "一般的に、株式の価格はランダムウォーク（酔っぱらいのオジサン歩き＝どっちに動くか分からない）に従っており、予測することは出来ないと考えられます。\n",
    "しかし、<u>２つの銘柄の株価の動きの違いに着目</u>すると、一定の値の周りで変動するという現象がしばしば観測されます。これを**平均回帰性**といいます。\n",
    "\n",
    "\n",
    "このノートでは、どうやってそのような銘柄の組み合わせを見つけるか、その組み合わせをどのようにシミュレーションしていくか、を学んで行きます。\n",
    "\n"
   ]
  },
  {
   "cell_type": "markdown",
   "metadata": {
    "run_control": {
     "frozen": false,
     "read_only": false
    }
   },
   "source": [
    "## 平均回帰性\n",
    "\n",
    "ペアトレでは２つの銘柄の価格の差がだいたい一定の範囲に収まっていることが必要です。\n",
    "もし、片方の銘柄だけ値上がりし続けたり、値下がりし続ける場合には、価格の差はどんどん広がって、大きな損をすることもあるかもしれません。\n",
    "いったん価格の差が開いても、元に戻る性質のことを、**平均回帰性**と言います。\n",
    "\n",
    "例を出します。金採掘会社関連銘柄のGDXとABXについて、2010/1/3から2017/12/31までの動きを見てみます。\n"
   ]
  },
  {
   "cell_type": "code",
   "execution_count": null,
   "metadata": {
    "collapsed": false,
    "run_control": {
     "frozen": false,
     "read_only": false
    }
   },
   "outputs": [],
   "source": [
    "import numpy as np\n",
    "import math\n",
    "import pandas as pd\n",
    "import matplotlib.pyplot as plt\n",
    "\n",
    "def draw(x, y, term, start_date, end_date):\n",
    "    df = get_pricing([x, y], fields='price', start_date=start_date, end_date=end_date)\n",
    "    return draw_df(df, x, y, term)\n",
    "    \n",
    "def draw_df(df, x, y, term):\n",
    "    beta = df[x].rolling(window=term).mean()/df[y].rolling(window=term).mean()\n",
    "    df['spread'] = df[x] - beta*df[y]\n",
    "    df['spread mean'] = df[\"spread\"].mean()\n",
    "    df.plot()\n",
    "    return df\n",
    "    \n",
    "GDX = symbols('GDX')\n",
    "ABX = symbols('ABX')\n",
    "term = 60\n",
    "start_date='2010-01-03'\n",
    "end_date='2017-12-31'\n",
    "df_GDX_ABX = draw(GDX, ABX, term, start_date, end_date)"
   ]
  },
  {
   "cell_type": "markdown",
   "metadata": {
    "run_control": {
     "frozen": false,
     "read_only": false
    }
   },
   "source": [
    "ここでは、XをGDX、YをABXとしています。\n",
    "\n",
    "**beta** は、過去60日間のXとYの価格の比を示しています。Yの価格にbetaを掛ければ、Xと直接比較出来るようになります。その差を**df['spread']**に入れています。\n",
    "\n",
    "赤線spreadがゼロの線を取り巻くように上下に動いています。とくに、上に大きくスパイクすると急速にゼロに戻っているように見えますね。こういう場合に収益機会がありそうです。\n"
   ]
  },
  {
   "cell_type": "markdown",
   "metadata": {},
   "source": [
    "## よりよいペアを見つけよう\n",
    "\n",
    "こういうペアをたくさん見つける事ができたら、人生幸せになれるような気がしてきました。しかし、本当に儲かる可能性のある銘柄のペアなのかそうでないのかを、このように目視で判断して行くほど人生は長くありません。\n",
    "\n",
    "また目視判断では、他のペアと比較してどっちがより良いペアなのかといった相対的な判断が非常に難しいです。\n",
    "\n",
    "そこでもう少し統計的にチェックする方法を見ていきたいと思います。\n",
    "\n",
    "まずは正規分布に従う乱数を使って仮想の株価を２つ作ってみます。**乱数で作った株価ですから、お互いなんの関係もないので平均回帰性が見えるはずはない事をプロットして確認してみましょう**。\n",
    "\n"
   ]
  },
  {
   "cell_type": "code",
   "execution_count": null,
   "metadata": {
    "collapsed": false
   },
   "outputs": [],
   "source": [
    "def make_price_movement(init_price, average_return, volatility, num_units):\n",
    "    returns = np.random.normal(average_return/num_units, volatility/math.sqrt(num_units), num_units)\n",
    "    price_list = [init_price]\n",
    "    for x in returns:\n",
    "        price_list.append(price_list[-1]*(1.0+x))\n",
    "    return price_list\n",
    "\n",
    "\n",
    "INIT_PRICE = 10.0\n",
    "AVERAGE_RETURN = 0.05\n",
    "VOLATILITY = 0.2\n",
    "NUM_UNITS = 252 \n",
    "np.random.seed(10)\n",
    "random_x = make_price_movement(INIT_PRICE, AVERAGE_RETURN, VOLATILITY, NUM_UNITS)\n",
    "random_y = make_price_movement(INIT_PRICE, AVERAGE_RETURN, VOLATILITY, NUM_UNITS)\n",
    "df = pd.DataFrame({'random_x':random_x, 'random_y':random_y})\n",
    "df_randoms = draw_df(df, 'random_x', 'random_y', term)\n"
   ]
  },
  {
   "cell_type": "markdown",
   "metadata": {},
   "source": [
    "ん？なにかおかしいですね。random_xとrandom_yはそれほど同じような値動きには見えませんが、そのスプレッドは平均回帰性をもっているように見えなくもありませんね。\n",
    "\n",
    "これは目視確認だと騙されてしまうかもしれません．\n",
    "\n",
    "\n"
   ]
  },
  {
   "cell_type": "markdown",
   "metadata": {
    "run_control": {
     "frozen": false,
     "read_only": false
    }
   },
   "source": [
    "## 共和分\n",
    "\n",
    "金鉱関連株同士のGDXとABXのように、実際に同じような性格をもって動くペアと、たまたま同じように動いて見えることがあるだけの、乱数で作ったペアの良し悪しを見分け、騙されないようにするには、どうしたら良いでしょうか。\n",
    "\n",
    "そのための分析方法として、**共和分**というものがあります。２つの価格の動きに共和分が認められれば、平均回帰性があるということが知られています。\n",
    "\n",
    "\n"
   ]
  },
  {
   "cell_type": "markdown",
   "metadata": {
    "run_control": {
     "frozen": false,
     "read_only": false
    }
   },
   "source": [
    "### 共和分をテストする\n",
    "\n",
    "python の統計モデルライブラリ [StatsModels](http://www.statsmodels.org/dev/index.html) の `statsmodels.tsa.stattools`の中にある [coint](http://www.statsmodels.org/dev/generated/statsmodels.tsa.stattools.coint.html) という関数を使って、２つの時系列が共和分しているかどうか確認します。\n",
    "\n",
    "`coint(X,Y)` は３つの値 coint_t, p_value, crit_value を返します。\n",
    "\n",
    "そのなかの、p_value (p値)が小さければ小さいほど、2つの価格が共和分性を持つことを示します。\n",
    "一般的に、p値が0.05を下回っていれば、共和分性があると言って良いと言われています。\n",
    "\n",
    "では，GDXとABXのp値と，random_x/random_yのp値を見てみましょう．\n"
   ]
  },
  {
   "cell_type": "code",
   "execution_count": null,
   "metadata": {
    "collapsed": false,
    "run_control": {
     "frozen": false,
     "read_only": false
    }
   },
   "outputs": [],
   "source": [
    "from statsmodels.tsa.stattools import coint\n",
    "# GDXとABXのケース\n",
    "coint_t, p_value, crit_value = coint(df_GDX_ABX[GDX], df_GDX_ABX[ABX])\n",
    "print 'GDXとADX:', p_value\n",
    "\n",
    "# 乱数のケース\n",
    "coint_t, p_value, crit_value = coint(random_x, random_y)\n",
    "print '２つの乱数:', p_value"
   ]
  },
  {
   "cell_type": "markdown",
   "metadata": {},
   "source": [
    "大きな違いが出ましたね。"
   ]
  },
  {
   "cell_type": "markdown",
   "metadata": {
    "run_control": {
     "frozen": false,
     "read_only": false
    }
   },
   "source": [
    "### 関連のありそうな銘柄とは\n",
    "\n",
    "それでは、共和分する銘柄ペアを探すには、どうしたら良いでしょうか。\n",
    "\n",
    "<u>相場にある全銘柄でペアを作り、片っ端からその差の共和分を取得し、良いペアを探しせばいいのでは！？</u>とやりたいところですがさすがに大変です。\n",
    "\n",
    "一般的に同じような値動きをする銘柄は、同じ業種や同じ商品のサプライヤー等、**経済的に関連がありそうな銘柄**があげられます。（例：資生堂と花王（化粧品）や，村田製作所とアルプス電気（iphoneサプライヤ））。\n",
    "\n",
    "そこで関連がありそうな銘柄を複数集めて、そこで総当りさせるコードを書いてみましょう。\n",
    "\n",
    "Quantopianではアメリカ株だけ取得可能ですので、ここでは金鉱株を集めて共和分を見ていきたいと思います。\n"
   ]
  },
  {
   "cell_type": "code",
   "execution_count": null,
   "metadata": {
    "collapsed": false,
    "run_control": {
     "frozen": false,
     "read_only": false
    }
   },
   "outputs": [],
   "source": [
    "import itertools\n",
    "\n",
    "def find_cointegrated_pairs(pair_list, start_date, end_date):\n",
    "    prices = get_pricing(pair_list, start_date=start_date, end_date=end_date, fields=\"price\", frequency=\"daily\")\n",
    "    prices.columns = map(lambda x: x.symbol, prices.columns)\n",
    "    pairs = list(itertools.combinations(pair_list, 2))\n",
    "    p_value_list = list()\n",
    "    for x, y in pairs:\n",
    "        _, p_value, _ = coint(prices[x], prices[y])\n",
    "        p_value_list.append([x, y, p_value])\n",
    "    return sorted(p_value_list, key=lambda x: x[2])  \n",
    "\n",
    "start_date = \"2011-01-01\"\n",
    "end_date = \"2018-01-01\"\n",
    "pairlist = ['AEM', 'GG', 'AUY', 'KGC', 'EGO', 'ABX', 'NEM', 'GDX']\n",
    "find_cointegrated_pairs(pairlist, start_date, end_date)"
   ]
  },
  {
   "cell_type": "markdown",
   "metadata": {
    "run_control": {
     "frozen": false,
     "read_only": false
    }
   },
   "source": [
    "p値が0.05を下回っている良さそうな組み合わせがありますね。さきほどのGDXとABXよりも、[ゴールドコープ【GG】](https://stocks.finance.yahoo.co.jp/us/detail/GG)と[エルドラド・ゴールド【EGO】](https://stocks.finance.yahoo.co.jp/us/detail/EGO)の方が良い値です。こちらに注目してみることにします。\n",
    "\n",
    "なお、違う期間を取って組み合わせを評価すれば、違った結果が出てきますので、この組み合わせが一番いいとは限らないことに注意してください。"
   ]
  },
  {
   "cell_type": "code",
   "execution_count": null,
   "metadata": {
    "collapsed": false,
    "run_control": {
     "frozen": false,
     "read_only": false
    },
    "scrolled": false
   },
   "outputs": [],
   "source": [
    "GG = symbols('GG')\n",
    "EGO = symbols('EGO')\n",
    "term = 120\n",
    "start_date='2010-01-03'\n",
    "end_date='2017-12-31'\n",
    "df_GG_EGO = draw(GG, EGO, term, start_date, end_date)"
   ]
  },
  {
   "cell_type": "markdown",
   "metadata": {},
   "source": [
    "良さそうな感じですね。では、この2つの銘柄を2011年から2017年末まで取得して、実際のシュミュレーションを行ってみましょう。\n"
   ]
  },
  {
   "cell_type": "markdown",
   "metadata": {
    "run_control": {
     "frozen": false,
     "read_only": false
    }
   },
   "source": [
    "赤線は、移動平均からの価格差ですが、これが５以上なら、GGを売りEGOを買い、−５以下であればEGOを売りGGを買うというストラテジーを組んでみましょう。\n",
    "\n",
    "実際に取引するときには、取引の費用や、株の流動性なども問題になりますが、そういう点については、QuantopianのAlgorithmの機能が役に立ちます。ここでは、Algorithmで作業をする前に、ざっくりとした計算でストラテジーの様子を把握します。"
   ]
  },
  {
   "cell_type": "code",
   "execution_count": null,
   "metadata": {
    "collapsed": false,
    "run_control": {
     "frozen": false,
     "read_only": false
    }
   },
   "outputs": [],
   "source": [
    "## ストラテジーをシュミュレーション\n",
    "\n",
    "x = symbols('GG')\n",
    "y = symbols('EGO')\n",
    "term = 60\n",
    "start_date='2010-01-03'\n",
    "end_date='2017-12-31'\n",
    "threshold = 5\n",
    "\n",
    "# 価格取得\n",
    "df = get_pricing([x, y], fields='price', start_date=start_date, end_date=end_date, frequency='daily')\n",
    "\n",
    "# スプレッド計算\n",
    "beta = df[x].rolling(window=term).mean()/df[y].rolling(window=term).mean()\n",
    "df['spread'] = df[x] - beta*df[y]\n",
    "\n",
    "# 一定の値を超えたかどうかの判定\n",
    "df['above_threshold'] = df[\"spread\"] > threshold\n",
    "df['below_threshold'] = df[\"spread\"] < -threshold\n",
    "\n",
    "# ポジション保有判定\n",
    "df['position'] = np.nan\n",
    "df.loc[df['above_threshold'], 'position'] = -1\n",
    "df.loc[df['below_threshold'], 'position'] = 1\n",
    "df['position'] = df['position'].fillna(method='ffill')\n",
    "\n",
    "\n",
    "# 毎日資金の補充をする前提でざっくり利益の計算をする\n",
    "df[\"x_return\"] = df[x].pct_change().shift(-1)\n",
    "df[\"y_return\"] = df[y].pct_change().shift(-1)\n",
    "\n",
    "df['pair_return'] = (df['x_return']-df['y_return']) * df['position']\n",
    "df['amount'] = (df['pair_return']+1.0).cumprod()"
   ]
  },
  {
   "cell_type": "code",
   "execution_count": null,
   "metadata": {
    "collapsed": false
   },
   "outputs": [],
   "source": [
    "df[['amount']].plot()\n"
   ]
  },
  {
   "cell_type": "code",
   "execution_count": null,
   "metadata": {
    "collapsed": false,
    "run_control": {
     "frozen": false,
     "read_only": false
    }
   },
   "outputs": [],
   "source": [
    "spy = get_pricing(\"SPY\", start_date=df.index[0], end_date=df.index[-1], fields='price', frequency='daily')    \n",
    "(spy.pct_change()+1).cumprod().plot(legend=True)\n",
    "df['amount'].plot(legend=True)"
   ]
  },
  {
   "cell_type": "markdown",
   "metadata": {
    "run_control": {
     "frozen": false,
     "read_only": false
    }
   },
   "source": [
    "![](https://2.bp.blogspot.com/-Bhz3_9xEJik/Wge7_Na6SoI/AAAAAAABIEs/chEBfuSE-Wc4LX8yyHaz_5-M2lxvC5eFgCLcBGAs/s180-c/kuji_hazure_woman.png)\n",
    "\n",
    "うーーーーん・・・これではSPYを黙って持っている方が全然ましということになります。\n",
    "\n",
    "なかなか人生うまく行かないわけですが、せっかくですので，みんなで手分けして良いストラテジーを探してみましょう。\n",
    "\n",
    "思いついた改良ポイントを紹介しますので、これをヒントに改良してみてもらってもよいですし、何かご自身で思いつくモノがあればやってみて下さい。\n",
    "\n",
    "(๑•̀ㅂ•́)و✧\n",
    "\n",
    "### 改良（？）ヒント\n",
    "\n",
    "+ 違うペアを探す\n",
    "+ 違う業種を探す [S&P 500 Map](https://finviz.com/map.ashx?t=sec)\n",
    "+ 複数ペアの組み合わせ\n",
    "+ term をもっと短く/長く\n",
    "+ 20日移動平均+ボリンジャーバンドの組み合わせ\n",
    "\n"
   ]
  },
  {
   "cell_type": "markdown",
   "metadata": {},
   "source": [
    "---\n",
    "\n",
    "## appendix1 \n",
    "\n",
    "### p値が一番悪かったペア，GG/ NEMでやって見る\n",
    "\n",
    "まず値動きと spread を見てみましょう．coint で計算すると良くない結果でしたが，spread の動きを見ると平均回帰性があるように見えます．\n"
   ]
  },
  {
   "cell_type": "code",
   "execution_count": null,
   "metadata": {
    "collapsed": false
   },
   "outputs": [],
   "source": [
    "GG = symbols('GG')\n",
    "NEM = symbols('NEM')\n",
    "term = 60\n",
    "start_date='2010-01-03'\n",
    "end_date='2017-12-31'\n",
    "df_GG_NEM = draw(GG, NEM, term, start_date, end_date)"
   ]
  },
  {
   "cell_type": "markdown",
   "metadata": {},
   "source": [
    "**しかし**、上記のストラテジーをシュミュレーションをGGとNEMに変更して実行してみて下さい。GG/EGOと大差ない結果が返ってくると思います。ツライですね。\n"
   ]
  },
  {
   "cell_type": "markdown",
   "metadata": {},
   "source": [
    "---\n",
    "\n",
    "## appendix 2\n",
    "\n",
    "### finpy もくもく会その１１でやってみたこと\n",
    "\n",
    "先日、finpy もくもく会＃11でみなさんのお知恵をお借りして色々とペアトレを考えてみました。\n",
    "\n",
    "+ USOとGLD，EWAとEWC（以下XとYとして読み替えて下さい）\n",
    "+ X/Yの２０日移動平均と２０日標準偏差で，ZSCOREを取得\n",
    "+ ①ZSCOREが２より大きい場合、X売りY買い、ZSCOREが-２より小さい場合、X買いY売り。\n",
    "+ ②前日のZSCOREが今日のZSCOREより小さくて、且つZSCOREが２より大きい場合、X売りY買い。前日のZSCOREが今日のZSCOREより大きく、且つ且つZSCOREが-２より小さい場合、X買いY売り。\n",
    "+ ①②両方に対して\n",
    "    + どちらの条件も満たさなかった場合は、ポジションクローズする\n",
    "    + どちらの条件も満たさなかった場合は、前日のポジションを維持する\n",
    " 　\n",
    "\n",
    "\n"
   ]
  },
  {
   "cell_type": "code",
   "execution_count": null,
   "metadata": {
    "collapsed": false
   },
   "outputs": [],
   "source": [
    "x = symbols(\"EWA\")\n",
    "y = symbols(\"EWC\")\n",
    "term = 20\n",
    "df = get_pricing([x,y], fields='price', frequency='daily', start_date=start_date, end_date=end_date)\n"
   ]
  },
  {
   "cell_type": "code",
   "execution_count": null,
   "metadata": {
    "collapsed": false
   },
   "outputs": [],
   "source": [
    "df['ratio'] = df[x] / df[y]\n",
    "df['mean'] = df['ratio'].rolling(window=term).mean()\n",
    "df['std'] =  df['ratio'].rolling(window=term).std()\n",
    "df['zscore'] = (df['ratio'] - df['mean']) / df['std']\n",
    "\n",
    "\n",
    "zscore_threshold = 2\n",
    "\n",
    "#①\n",
    "df[\"above_threshold\"] = df['zscore'] > zscore_threshold\n",
    "df[\"below_threshold\"] = df['zscore'] < -zscore_threshold\n",
    "\n",
    "# #②\n",
    "# df[\"above_threshold\"] = (df['zscore'] > zscore_threshold) & (df['zscore'] < df['zscore'].shift(1))\n",
    "# df[\"above_threshold\"] = (df['zscore'] < -zscore_threshold) & (df['zscore'] > df['zscore'].shift(1))\n",
    "\n",
    "# どちらの条件も満たさなかった場合は，ポジションクローズする\n",
    "df['position'] = 0\n",
    "df.loc[df['above_threshold'], 'position'] = -1\n",
    "df.loc[df['below_threshold'], 'position'] = 1\n",
    "\n",
    "df[\"x_return\"] = df[x].pct_change().shift(-1)\n",
    "df[\"y_return\"] = df[y].pct_change().shift(-1)\n",
    "\n",
    "df['pair_return'] = (df['x_return']-df['y_return']) * df['position']\n",
    "\n",
    "df['amount'] = (df['pair_return']+1.0).cumprod()\n",
    "df['amount'].plot()"
   ]
  },
  {
   "cell_type": "code",
   "execution_count": null,
   "metadata": {
    "collapsed": false
   },
   "outputs": [],
   "source": [
    "df['ratio'] = df[x] / df[y]\n",
    "df['mean'] = df['ratio'].rolling(window=term).mean()\n",
    "df['std'] =  df['ratio'].rolling(window=term).std()\n",
    "df['zscore'] = (df['ratio'] - df['mean']) / df['std']\n",
    "\n",
    "\n",
    "zscore_threshold = 2\n",
    "\n",
    "#①\n",
    "df[\"above_threshold\"] = df['zscore'] > zscore_threshold\n",
    "df[\"below_threshold\"] = df['zscore'] < -zscore_threshold\n",
    "\n",
    "# #②\n",
    "# df[\"above_threshold\"] = (df['zscore'] > zscore_threshold) & (df['zscore'] < df['zscore'].shift(1))\n",
    "# df[\"above_threshold\"] = (df['zscore'] < -zscore_threshold) & (df['zscore'] > df['zscore'].shift(1))\n",
    "\n",
    "# どちらの条件も満たさなかった場合は，前日のポジションを維持する \n",
    "df['position'] = np.nan\n",
    "df.loc[df['above_threshold'], 'position'] = -1\n",
    "df.loc[df['below_threshold'], 'position'] = 1\n",
    "df['position'] = df['position'].fillna(method='ffill')\n",
    "\n",
    "df[\"x_return\"] = df[x].pct_change().shift(-1)\n",
    "df[\"y_return\"] = df[y].pct_change().shift(-1)\n",
    "\n",
    "df['pair_return'] = (df['x_return']-df['y_return']) * df['position']\n",
    "\n",
    "df['amount'] = (df['pair_return']+1.0).cumprod()\n",
    "df['amount'].plot()"
   ]
  },
  {
   "cell_type": "markdown",
   "metadata": {
    "run_control": {
     "frozen": false,
     "read_only": false
    }
   },
   "source": [
    "## アルゴリズムでシミュレーション\n",
    "\n",
    "さて上手くいったら（いかなくても）アルゴリズムでシミュレーションしてみましょう。\n",
    "\n",
    "テンプレートを作りましたのでアルゴリズムで使ってみて下さい。\n",
    "\n",
    "\n",
    "```python\n",
    "\n",
    "\"\"\"\n",
    "\n",
    "\n",
    "This is a template algorithm on Quantopian for TQUG pair trades \n",
    "ハンズオンで勉強した条件でアルゴリズムを作ってみましょう\n",
    "+ GGとEGO\n",
    "+ 60日移動平均\n",
    "+ spreadは移動平均の引き算\n",
    "+ threshold は3\n",
    "+ 一旦thresholdにヒットしたら，反対にヒットするまでホールド\n",
    "+ 確認はクローズ時\n",
    "\n",
    "\"\"\"\n",
    "import quantopian.algorithm as algo\n",
    "\n",
    "def initialize(context):\n",
    "    context.x = sid(22226) #GG\n",
    "    context.y = sid(24547) #EGO\n",
    "    context.term = 120\n",
    "    context.threshold = 5\n",
    "    \n",
    "    # 取引終了時にリバランス\n",
    "    algo.schedule_function(\n",
    "        rebalance,\n",
    "        algo.date_rules.every_day(),\n",
    "        algo.time_rules.market_close(),\n",
    "    )\n",
    "    algo.schedule_function(\n",
    "        record_vars,\n",
    "        algo.date_rules.every_day(),\n",
    "        algo.time_rules.market_close(),\n",
    "    )\n",
    "\n",
    "    \n",
    "def rebalance(context, data):\n",
    "    pricex = data.history(context.x, fields=\"price\", bar_count=context.term, frequency=\"1d\")\n",
    "    pricey = data.history(context.y, fields=\"price\", bar_count=context.term, frequency=\"1d\")\n",
    "    pricex_mean = pricex.mean() \n",
    "    pricey_mean = pricey.mean() \n",
    "    \n",
    "    beta = pricex_mean / pricey_mean\n",
    "    context.spread = pricex[-1] - pricey[-1] * beta \n",
    "    \n",
    "    if context.spread > context.threshold:\n",
    "        if data.can_trade(context.x) and data.can_trade(context.y):\n",
    "            order_percent(context.x, -0.5)\n",
    "            order_percent(context.y, 0.5)\n",
    "    elif context.spread < -context.threshold:\n",
    "        if data.can_trade(context.x) and data.can_trade(context.y):\n",
    "            order_percent(context.x, 0.5)\n",
    "            order_percent(context.y, -0.5)\n",
    "            \n",
    "    else:\n",
    "        pass \n",
    "    \n",
    "def record_vars(context, data):\n",
    "    record(spread=context.spread)\n",
    "\n",
    "\n",
    "def handle_data(context, data):\n",
    "    pass\n",
    "    ```\n"
   ]
  },
  {
   "cell_type": "markdown",
   "metadata": {},
   "source": [
    "### references \n",
    "\n",
    "+ [How to Build a Pairs Trading Strategy on Quantopian?](https://www.quantopian.com/posts/how-to-build-a-pairs-trading-strategy-on-quantopian)\n",
    "+ [CiNii 論文 -  共和分性に基づく最適ペアトレード](https://ci.nii.ac.jp/naid/120006224721/)"
   ]
  }
 ],
 "metadata": {
  "kernelspec": {
   "display_name": "Python 2",
   "language": "python",
   "name": "python2"
  },
  "language_info": {
   "codemirror_mode": {
    "name": "ipython",
    "version": 2
   },
   "file_extension": ".py",
   "mimetype": "text/x-python",
   "name": "python",
   "nbconvert_exporter": "python",
   "pygments_lexer": "ipython2",
   "version": "2.7.12"
  }
 },
 "nbformat": 4,
 "nbformat_minor": 2
}